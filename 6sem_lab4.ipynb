{
 "cells": [
  {
   "cell_type": "markdown",
   "metadata": {},
   "source": [
    "# Описание признаков heart dataset\n",
    "age - age in years\n",
    "\n",
    "sex( 1 = male; 0 = female)\n",
    "\n",
    "cp - chest pain type\n",
    "\n",
    "trestbps - resting blood pressure (in mm Hg on admission to the hospital)\n",
    "\n",
    "chol - serum cholestoral in mg/dl\n",
    "\n",
    "fbs - (fasting blood sugar > 120 mg/dl) (1 = true; 0 = false)\n",
    "\n",
    "restecg - resting electrocardiographic results\n",
    "\n",
    "thalach - maximum heart rate achieved\n",
    "\n",
    "exang - exercise induced angina (1 = yes; 0 = no)\n",
    "\n",
    "oldpeak - ST depression induced by exercise relative to rest\n",
    "\n",
    "slope - the slope of the peak exercise ST segment\n",
    "\n",
    "ca - number of major vessels (0-3) colored by flourosopy\n",
    "\n",
    "tha - l3 = normal; 6 = fixed defect; 7 = reversable defect\n",
    "\n",
    "target - 1 or 0 "
   ]
  },
  {
   "cell_type": "code",
   "execution_count": 1,
   "metadata": {},
   "outputs": [],
   "source": [
    "import pandas as pd\n",
    "import numpy as np\n",
    "from sklearn.model_selection import train_test_split\n",
    "from sklearn.neighbors import KNeighborsClassifier\n",
    "from sklearn.metrics import classification_report\n",
    "from sklearn.metrics import accuracy_score, recall_score, f1_score\n",
    "from sklearn.metrics import make_scorer\n",
    "from sklearn.model_selection import GridSearchCV\n",
    "from sklearn.model_selection import learning_curve, validation_curve\n",
    "import matplotlib.pyplot as plt"
   ]
  },
  {
   "cell_type": "code",
   "execution_count": 2,
   "metadata": {},
   "outputs": [],
   "source": [
    "data = pd.read_csv('data/heart.csv', sep=\",\")"
   ]
  },
  {
   "cell_type": "code",
   "execution_count": 3,
   "metadata": {},
   "outputs": [
    {
     "data": {
      "text/html": [
       "<div>\n",
       "<style scoped>\n",
       "    .dataframe tbody tr th:only-of-type {\n",
       "        vertical-align: middle;\n",
       "    }\n",
       "\n",
       "    .dataframe tbody tr th {\n",
       "        vertical-align: top;\n",
       "    }\n",
       "\n",
       "    .dataframe thead th {\n",
       "        text-align: right;\n",
       "    }\n",
       "</style>\n",
       "<table border=\"1\" class=\"dataframe\">\n",
       "  <thead>\n",
       "    <tr style=\"text-align: right;\">\n",
       "      <th></th>\n",
       "      <th>age</th>\n",
       "      <th>sex</th>\n",
       "      <th>cp</th>\n",
       "      <th>trestbps</th>\n",
       "      <th>chol</th>\n",
       "      <th>fbs</th>\n",
       "      <th>restecg</th>\n",
       "      <th>thalach</th>\n",
       "      <th>exang</th>\n",
       "      <th>oldpeak</th>\n",
       "      <th>slope</th>\n",
       "      <th>ca</th>\n",
       "      <th>thal</th>\n",
       "      <th>target</th>\n",
       "    </tr>\n",
       "  </thead>\n",
       "  <tbody>\n",
       "    <tr>\n",
       "      <th>0</th>\n",
       "      <td>63</td>\n",
       "      <td>1</td>\n",
       "      <td>3</td>\n",
       "      <td>145</td>\n",
       "      <td>233</td>\n",
       "      <td>1</td>\n",
       "      <td>0</td>\n",
       "      <td>150</td>\n",
       "      <td>0</td>\n",
       "      <td>2.3</td>\n",
       "      <td>0</td>\n",
       "      <td>0</td>\n",
       "      <td>1</td>\n",
       "      <td>1</td>\n",
       "    </tr>\n",
       "    <tr>\n",
       "      <th>1</th>\n",
       "      <td>37</td>\n",
       "      <td>1</td>\n",
       "      <td>2</td>\n",
       "      <td>130</td>\n",
       "      <td>250</td>\n",
       "      <td>0</td>\n",
       "      <td>1</td>\n",
       "      <td>187</td>\n",
       "      <td>0</td>\n",
       "      <td>3.5</td>\n",
       "      <td>0</td>\n",
       "      <td>0</td>\n",
       "      <td>2</td>\n",
       "      <td>1</td>\n",
       "    </tr>\n",
       "    <tr>\n",
       "      <th>2</th>\n",
       "      <td>41</td>\n",
       "      <td>0</td>\n",
       "      <td>1</td>\n",
       "      <td>130</td>\n",
       "      <td>204</td>\n",
       "      <td>0</td>\n",
       "      <td>0</td>\n",
       "      <td>172</td>\n",
       "      <td>0</td>\n",
       "      <td>1.4</td>\n",
       "      <td>2</td>\n",
       "      <td>0</td>\n",
       "      <td>2</td>\n",
       "      <td>1</td>\n",
       "    </tr>\n",
       "    <tr>\n",
       "      <th>3</th>\n",
       "      <td>56</td>\n",
       "      <td>1</td>\n",
       "      <td>1</td>\n",
       "      <td>120</td>\n",
       "      <td>236</td>\n",
       "      <td>0</td>\n",
       "      <td>1</td>\n",
       "      <td>178</td>\n",
       "      <td>0</td>\n",
       "      <td>0.8</td>\n",
       "      <td>2</td>\n",
       "      <td>0</td>\n",
       "      <td>2</td>\n",
       "      <td>1</td>\n",
       "    </tr>\n",
       "    <tr>\n",
       "      <th>4</th>\n",
       "      <td>57</td>\n",
       "      <td>0</td>\n",
       "      <td>0</td>\n",
       "      <td>120</td>\n",
       "      <td>354</td>\n",
       "      <td>0</td>\n",
       "      <td>1</td>\n",
       "      <td>163</td>\n",
       "      <td>1</td>\n",
       "      <td>0.6</td>\n",
       "      <td>2</td>\n",
       "      <td>0</td>\n",
       "      <td>2</td>\n",
       "      <td>1</td>\n",
       "    </tr>\n",
       "  </tbody>\n",
       "</table>\n",
       "</div>"
      ],
      "text/plain": [
       "   age  sex  cp  trestbps  chol  fbs  restecg  thalach  exang  oldpeak  slope  \\\n",
       "0   63    1   3       145   233    1        0      150      0      2.3      0   \n",
       "1   37    1   2       130   250    0        1      187      0      3.5      0   \n",
       "2   41    0   1       130   204    0        0      172      0      1.4      2   \n",
       "3   56    1   1       120   236    0        1      178      0      0.8      2   \n",
       "4   57    0   0       120   354    0        1      163      1      0.6      2   \n",
       "\n",
       "   ca  thal  target  \n",
       "0   0     1       1  \n",
       "1   0     2       1  \n",
       "2   0     2       1  \n",
       "3   0     2       1  \n",
       "4   0     2       1  "
      ]
     },
     "execution_count": 3,
     "metadata": {},
     "output_type": "execute_result"
    }
   ],
   "source": [
    "data.head()"
   ]
  },
  {
   "cell_type": "code",
   "execution_count": 4,
   "metadata": {},
   "outputs": [],
   "source": [
    "# отделим целевой признак от остальных"
   ]
  },
  {
   "cell_type": "code",
   "execution_count": 5,
   "metadata": {},
   "outputs": [
    {
     "data": {
      "text/html": [
       "<div>\n",
       "<style scoped>\n",
       "    .dataframe tbody tr th:only-of-type {\n",
       "        vertical-align: middle;\n",
       "    }\n",
       "\n",
       "    .dataframe tbody tr th {\n",
       "        vertical-align: top;\n",
       "    }\n",
       "\n",
       "    .dataframe thead th {\n",
       "        text-align: right;\n",
       "    }\n",
       "</style>\n",
       "<table border=\"1\" class=\"dataframe\">\n",
       "  <thead>\n",
       "    <tr style=\"text-align: right;\">\n",
       "      <th></th>\n",
       "      <th>age</th>\n",
       "      <th>sex</th>\n",
       "      <th>cp</th>\n",
       "      <th>trestbps</th>\n",
       "      <th>chol</th>\n",
       "      <th>fbs</th>\n",
       "      <th>restecg</th>\n",
       "      <th>thalach</th>\n",
       "      <th>exang</th>\n",
       "      <th>oldpeak</th>\n",
       "      <th>slope</th>\n",
       "      <th>ca</th>\n",
       "      <th>thal</th>\n",
       "    </tr>\n",
       "  </thead>\n",
       "  <tbody>\n",
       "    <tr>\n",
       "      <th>0</th>\n",
       "      <td>63</td>\n",
       "      <td>1</td>\n",
       "      <td>3</td>\n",
       "      <td>145</td>\n",
       "      <td>233</td>\n",
       "      <td>1</td>\n",
       "      <td>0</td>\n",
       "      <td>150</td>\n",
       "      <td>0</td>\n",
       "      <td>2.3</td>\n",
       "      <td>0</td>\n",
       "      <td>0</td>\n",
       "      <td>1</td>\n",
       "    </tr>\n",
       "    <tr>\n",
       "      <th>1</th>\n",
       "      <td>37</td>\n",
       "      <td>1</td>\n",
       "      <td>2</td>\n",
       "      <td>130</td>\n",
       "      <td>250</td>\n",
       "      <td>0</td>\n",
       "      <td>1</td>\n",
       "      <td>187</td>\n",
       "      <td>0</td>\n",
       "      <td>3.5</td>\n",
       "      <td>0</td>\n",
       "      <td>0</td>\n",
       "      <td>2</td>\n",
       "    </tr>\n",
       "    <tr>\n",
       "      <th>2</th>\n",
       "      <td>41</td>\n",
       "      <td>0</td>\n",
       "      <td>1</td>\n",
       "      <td>130</td>\n",
       "      <td>204</td>\n",
       "      <td>0</td>\n",
       "      <td>0</td>\n",
       "      <td>172</td>\n",
       "      <td>0</td>\n",
       "      <td>1.4</td>\n",
       "      <td>2</td>\n",
       "      <td>0</td>\n",
       "      <td>2</td>\n",
       "    </tr>\n",
       "    <tr>\n",
       "      <th>3</th>\n",
       "      <td>56</td>\n",
       "      <td>1</td>\n",
       "      <td>1</td>\n",
       "      <td>120</td>\n",
       "      <td>236</td>\n",
       "      <td>0</td>\n",
       "      <td>1</td>\n",
       "      <td>178</td>\n",
       "      <td>0</td>\n",
       "      <td>0.8</td>\n",
       "      <td>2</td>\n",
       "      <td>0</td>\n",
       "      <td>2</td>\n",
       "    </tr>\n",
       "    <tr>\n",
       "      <th>4</th>\n",
       "      <td>57</td>\n",
       "      <td>0</td>\n",
       "      <td>0</td>\n",
       "      <td>120</td>\n",
       "      <td>354</td>\n",
       "      <td>0</td>\n",
       "      <td>1</td>\n",
       "      <td>163</td>\n",
       "      <td>1</td>\n",
       "      <td>0.6</td>\n",
       "      <td>2</td>\n",
       "      <td>0</td>\n",
       "      <td>2</td>\n",
       "    </tr>\n",
       "  </tbody>\n",
       "</table>\n",
       "</div>"
      ],
      "text/plain": [
       "   age  sex  cp  trestbps  chol  fbs  restecg  thalach  exang  oldpeak  slope  \\\n",
       "0   63    1   3       145   233    1        0      150      0      2.3      0   \n",
       "1   37    1   2       130   250    0        1      187      0      3.5      0   \n",
       "2   41    0   1       130   204    0        0      172      0      1.4      2   \n",
       "3   56    1   1       120   236    0        1      178      0      0.8      2   \n",
       "4   57    0   0       120   354    0        1      163      1      0.6      2   \n",
       "\n",
       "   ca  thal  \n",
       "0   0     1  \n",
       "1   0     2  \n",
       "2   0     2  \n",
       "3   0     2  \n",
       "4   0     2  "
      ]
     },
     "execution_count": 5,
     "metadata": {},
     "output_type": "execute_result"
    }
   ],
   "source": [
    "X = data.loc[:, data.columns != 'target']\n",
    "X.head()"
   ]
  },
  {
   "cell_type": "code",
   "execution_count": 6,
   "metadata": {},
   "outputs": [
    {
     "data": {
      "text/plain": [
       "0    1\n",
       "1    1\n",
       "2    1\n",
       "3    1\n",
       "4    1\n",
       "Name: target, dtype: int64"
      ]
     },
     "execution_count": 6,
     "metadata": {},
     "output_type": "execute_result"
    }
   ],
   "source": [
    "Y = data['target']\n",
    "Y.head()"
   ]
  },
  {
   "cell_type": "code",
   "execution_count": 7,
   "metadata": {},
   "outputs": [],
   "source": [
    "# разобьем данные на обучающую и тестовую выборки\n",
    "X_train, X_test, y_train, y_test = train_test_split(\n",
    "    X, Y, test_size=0.25, random_state=1)"
   ]
  },
  {
   "cell_type": "code",
   "execution_count": 8,
   "metadata": {},
   "outputs": [
    {
     "data": {
      "text/plain": [
       "((227, 13), (227,))"
      ]
     },
     "execution_count": 8,
     "metadata": {},
     "output_type": "execute_result"
    }
   ],
   "source": [
    "X_train.shape, y_train.shape"
   ]
  },
  {
   "cell_type": "code",
   "execution_count": 9,
   "metadata": {},
   "outputs": [
    {
     "data": {
      "text/plain": [
       "((76, 13), (76,))"
      ]
     },
     "execution_count": 9,
     "metadata": {},
     "output_type": "execute_result"
    }
   ],
   "source": [
    "X_test.shape, y_test.shape"
   ]
  },
  {
   "cell_type": "code",
   "execution_count": 10,
   "metadata": {},
   "outputs": [
    {
     "data": {
      "text/plain": [
       "array([0, 0, 1, 0, 0, 0, 0, 1, 1, 1, 0, 0, 0, 0, 1, 1, 1, 1, 1, 0, 0, 0,\n",
       "       0, 0, 1, 1, 1, 1, 0, 0, 1, 1, 0, 1, 0, 1, 1, 0, 1, 0, 0, 0, 0, 0,\n",
       "       0, 1, 1, 0, 1, 0, 1, 1, 0, 0, 1, 1, 0, 0, 1, 0, 0, 1, 1, 1, 1, 1,\n",
       "       1, 1, 0, 0, 0, 1, 0, 0, 0, 0], dtype=int64)"
      ]
     },
     "execution_count": 10,
     "metadata": {},
     "output_type": "execute_result"
    }
   ],
   "source": [
    "# 4 ближайших соседа\n",
    "knn = KNeighborsClassifier(n_neighbors=4)\n",
    "knn.fit(X_train, y_train)\n",
    "predicted = knn.predict(X_test)\n",
    "predicted"
   ]
  },
  {
   "cell_type": "code",
   "execution_count": 11,
   "metadata": {},
   "outputs": [],
   "source": [
    "# если подумать о сущности датасета - определение возможной болезни сердца\n",
    "# в случае, если мы сказали, что человек имеет болезнь и при этом ошиблись(FP) - это не страшно, \n",
    "# тк после настоящего обследования все встанет на свои места\n",
    "# \n",
    "# в случае, если мы сказали, что человек имеет болезнь и не ошиблись (TP) - мы должны иметь хорошую точность, \n",
    "# чтобы люди шли на полное обследование\n",
    "#\n",
    "# в случае, если мы сказали, что человек не болен и при этом ошиблись (FN) - это очень плохо, тк человек подумает,\n",
    "# что здоров и будет жить в незнании\n",
    "#\n",
    "# в случае, если мы сказали, что человек не болен и при этом не ошиблись (TN) - опять же, лучше иметь хорошую точность.\n",
    "#\n",
    "#\n",
    "# ИТОГО: главный приоритет - избежать FN. Далее важен случай TP. "
   ]
  },
  {
   "cell_type": "code",
   "execution_count": 12,
   "metadata": {},
   "outputs": [],
   "source": [
    "# на основе этих размышлений выберем подходящие метрики"
   ]
  },
  {
   "cell_type": "code",
   "execution_count": 15,
   "metadata": {},
   "outputs": [],
   "source": [
    "# на снове размышлений не смогла придти к заключении о метриках\n",
    "\n",
    "# выбрала recall, f1, accuracy"
   ]
  },
  {
   "cell_type": "code",
   "execution_count": 16,
   "metadata": {},
   "outputs": [],
   "source": [
    "# найдем показатели метрик для KNN при k=4"
   ]
  },
  {
   "cell_type": "code",
   "execution_count": 18,
   "metadata": {},
   "outputs": [
    {
     "data": {
      "text/plain": [
       "({'precision': 0.5121951219512195,\n",
       "  'recall': 0.6,\n",
       "  'f1-score': 0.5526315789473684,\n",
       "  'support': 35},\n",
       " {'precision': 0.6,\n",
       "  'recall': 0.5121951219512195,\n",
       "  'f1-score': 0.5526315789473684,\n",
       "  'support': 41})"
      ]
     },
     "execution_count": 18,
     "metadata": {},
     "output_type": "execute_result"
    }
   ],
   "source": [
    "classification_report(y_test, predicted, output_dict=True)[\"0\"], \\\n",
    "classification_report(y_test, predicted, output_dict=True)[\"1\"]"
   ]
  },
  {
   "cell_type": "code",
   "execution_count": 19,
   "metadata": {},
   "outputs": [
    {
     "data": {
      "text/plain": [
       "[{'n_neighbors': array([ 1,  4,  7, 10, 13, 16, 19, 22, 25, 28, 31, 34, 37, 40, 43, 46, 49,\n",
       "         52, 55, 58])}]"
      ]
     },
     "execution_count": 19,
     "metadata": {},
     "output_type": "execute_result"
    }
   ],
   "source": [
    "# при помощи решетчатого поиска и кросс-валидации найдем оптимальное значение гиперпараметра k\n",
    "scoring = {\n",
    "    'recall': make_scorer(recall_score), \n",
    "    'f1': make_scorer(f1_score), \n",
    "    'accuracy': make_scorer(accuracy_score)\n",
    "}\n",
    "n_range = np.array(range(1,60,3))\n",
    "tuned_parameters = [{'n_neighbors': n_range}]\n",
    "tuned_parameters"
   ]
  },
  {
   "cell_type": "code",
   "execution_count": 21,
   "metadata": {},
   "outputs": [
    {
     "name": "stderr",
     "output_type": "stream",
     "text": [
      "C:\\Users\\Karina\\Anaconda3\\lib\\site-packages\\sklearn\\model_selection\\_search.py:841: DeprecationWarning: The default of the `iid` parameter will change from True to False in version 0.22 and will be removed in 0.24. This will change numeric results when test-set sizes are unequal.\n",
      "  DeprecationWarning)\n"
     ]
    },
    {
     "data": {
      "text/plain": [
       "GridSearchCV(cv=5, error_score='raise-deprecating',\n",
       "       estimator=KNeighborsClassifier(algorithm='auto', leaf_size=30, metric='minkowski',\n",
       "           metric_params=None, n_jobs=None, n_neighbors=5, p=2,\n",
       "           weights='uniform'),\n",
       "       fit_params=None, iid='warn', n_jobs=None,\n",
       "       param_grid=[{'n_neighbors': array([ 1,  4,  7, 10, 13, 16, 19, 22, 25, 28, 31, 34, 37, 40, 43, 46, 49,\n",
       "       52, 55, 58])}],\n",
       "       pre_dispatch='2*n_jobs', refit='f1', return_train_score='warn',\n",
       "       scoring={'recall': make_scorer(recall_score), 'f1': make_scorer(f1_score), 'accuracy': make_scorer(accuracy_score)},\n",
       "       verbose=0)"
      ]
     },
     "execution_count": 21,
     "metadata": {},
     "output_type": "execute_result"
    }
   ],
   "source": [
    "knn_gs = GridSearchCV(KNeighborsClassifier(), tuned_parameters, cv=5, scoring=scoring, refit='f1')\n",
    "knn_gs.fit(X_train, y_train)"
   ]
  },
  {
   "cell_type": "code",
   "execution_count": 22,
   "metadata": {},
   "outputs": [
    {
     "name": "stderr",
     "output_type": "stream",
     "text": [
      "C:\\Users\\Karina\\Anaconda3\\lib\\site-packages\\sklearn\\utils\\deprecation.py:125: FutureWarning: You are accessing a training score ('split0_train_recall'), which will not be available by default any more in 0.21. If you need training scores, please set return_train_score=True\n",
      "  warnings.warn(*warn_args, **warn_kwargs)\n",
      "C:\\Users\\Karina\\Anaconda3\\lib\\site-packages\\sklearn\\utils\\deprecation.py:125: FutureWarning: You are accessing a training score ('split1_train_recall'), which will not be available by default any more in 0.21. If you need training scores, please set return_train_score=True\n",
      "  warnings.warn(*warn_args, **warn_kwargs)\n",
      "C:\\Users\\Karina\\Anaconda3\\lib\\site-packages\\sklearn\\utils\\deprecation.py:125: FutureWarning: You are accessing a training score ('split2_train_recall'), which will not be available by default any more in 0.21. If you need training scores, please set return_train_score=True\n",
      "  warnings.warn(*warn_args, **warn_kwargs)\n",
      "C:\\Users\\Karina\\Anaconda3\\lib\\site-packages\\sklearn\\utils\\deprecation.py:125: FutureWarning: You are accessing a training score ('split3_train_recall'), which will not be available by default any more in 0.21. If you need training scores, please set return_train_score=True\n",
      "  warnings.warn(*warn_args, **warn_kwargs)\n",
      "C:\\Users\\Karina\\Anaconda3\\lib\\site-packages\\sklearn\\utils\\deprecation.py:125: FutureWarning: You are accessing a training score ('split4_train_recall'), which will not be available by default any more in 0.21. If you need training scores, please set return_train_score=True\n",
      "  warnings.warn(*warn_args, **warn_kwargs)\n",
      "C:\\Users\\Karina\\Anaconda3\\lib\\site-packages\\sklearn\\utils\\deprecation.py:125: FutureWarning: You are accessing a training score ('mean_train_recall'), which will not be available by default any more in 0.21. If you need training scores, please set return_train_score=True\n",
      "  warnings.warn(*warn_args, **warn_kwargs)\n",
      "C:\\Users\\Karina\\Anaconda3\\lib\\site-packages\\sklearn\\utils\\deprecation.py:125: FutureWarning: You are accessing a training score ('std_train_recall'), which will not be available by default any more in 0.21. If you need training scores, please set return_train_score=True\n",
      "  warnings.warn(*warn_args, **warn_kwargs)\n",
      "C:\\Users\\Karina\\Anaconda3\\lib\\site-packages\\sklearn\\utils\\deprecation.py:125: FutureWarning: You are accessing a training score ('split0_train_f1'), which will not be available by default any more in 0.21. If you need training scores, please set return_train_score=True\n",
      "  warnings.warn(*warn_args, **warn_kwargs)\n",
      "C:\\Users\\Karina\\Anaconda3\\lib\\site-packages\\sklearn\\utils\\deprecation.py:125: FutureWarning: You are accessing a training score ('split1_train_f1'), which will not be available by default any more in 0.21. If you need training scores, please set return_train_score=True\n",
      "  warnings.warn(*warn_args, **warn_kwargs)\n",
      "C:\\Users\\Karina\\Anaconda3\\lib\\site-packages\\sklearn\\utils\\deprecation.py:125: FutureWarning: You are accessing a training score ('split2_train_f1'), which will not be available by default any more in 0.21. If you need training scores, please set return_train_score=True\n",
      "  warnings.warn(*warn_args, **warn_kwargs)\n",
      "C:\\Users\\Karina\\Anaconda3\\lib\\site-packages\\sklearn\\utils\\deprecation.py:125: FutureWarning: You are accessing a training score ('split3_train_f1'), which will not be available by default any more in 0.21. If you need training scores, please set return_train_score=True\n",
      "  warnings.warn(*warn_args, **warn_kwargs)\n",
      "C:\\Users\\Karina\\Anaconda3\\lib\\site-packages\\sklearn\\utils\\deprecation.py:125: FutureWarning: You are accessing a training score ('split4_train_f1'), which will not be available by default any more in 0.21. If you need training scores, please set return_train_score=True\n",
      "  warnings.warn(*warn_args, **warn_kwargs)\n",
      "C:\\Users\\Karina\\Anaconda3\\lib\\site-packages\\sklearn\\utils\\deprecation.py:125: FutureWarning: You are accessing a training score ('mean_train_f1'), which will not be available by default any more in 0.21. If you need training scores, please set return_train_score=True\n",
      "  warnings.warn(*warn_args, **warn_kwargs)\n",
      "C:\\Users\\Karina\\Anaconda3\\lib\\site-packages\\sklearn\\utils\\deprecation.py:125: FutureWarning: You are accessing a training score ('std_train_f1'), which will not be available by default any more in 0.21. If you need training scores, please set return_train_score=True\n",
      "  warnings.warn(*warn_args, **warn_kwargs)\n",
      "C:\\Users\\Karina\\Anaconda3\\lib\\site-packages\\sklearn\\utils\\deprecation.py:125: FutureWarning: You are accessing a training score ('split0_train_accuracy'), which will not be available by default any more in 0.21. If you need training scores, please set return_train_score=True\n",
      "  warnings.warn(*warn_args, **warn_kwargs)\n",
      "C:\\Users\\Karina\\Anaconda3\\lib\\site-packages\\sklearn\\utils\\deprecation.py:125: FutureWarning: You are accessing a training score ('split1_train_accuracy'), which will not be available by default any more in 0.21. If you need training scores, please set return_train_score=True\n",
      "  warnings.warn(*warn_args, **warn_kwargs)\n",
      "C:\\Users\\Karina\\Anaconda3\\lib\\site-packages\\sklearn\\utils\\deprecation.py:125: FutureWarning: You are accessing a training score ('split2_train_accuracy'), which will not be available by default any more in 0.21. If you need training scores, please set return_train_score=True\n",
      "  warnings.warn(*warn_args, **warn_kwargs)\n",
      "C:\\Users\\Karina\\Anaconda3\\lib\\site-packages\\sklearn\\utils\\deprecation.py:125: FutureWarning: You are accessing a training score ('split3_train_accuracy'), which will not be available by default any more in 0.21. If you need training scores, please set return_train_score=True\n",
      "  warnings.warn(*warn_args, **warn_kwargs)\n",
      "C:\\Users\\Karina\\Anaconda3\\lib\\site-packages\\sklearn\\utils\\deprecation.py:125: FutureWarning: You are accessing a training score ('split4_train_accuracy'), which will not be available by default any more in 0.21. If you need training scores, please set return_train_score=True\n",
      "  warnings.warn(*warn_args, **warn_kwargs)\n",
      "C:\\Users\\Karina\\Anaconda3\\lib\\site-packages\\sklearn\\utils\\deprecation.py:125: FutureWarning: You are accessing a training score ('mean_train_accuracy'), which will not be available by default any more in 0.21. If you need training scores, please set return_train_score=True\n",
      "  warnings.warn(*warn_args, **warn_kwargs)\n",
      "C:\\Users\\Karina\\Anaconda3\\lib\\site-packages\\sklearn\\utils\\deprecation.py:125: FutureWarning: You are accessing a training score ('std_train_accuracy'), which will not be available by default any more in 0.21. If you need training scores, please set return_train_score=True\n",
      "  warnings.warn(*warn_args, **warn_kwargs)\n"
     ]
    },
    {
     "data": {
      "text/plain": [
       "{'mean_fit_time': array([0.00531883, 0.00422764, 0.00441103, 0.00288181, 0.00332522,\n",
       "        0.00310211, 0.00429707, 0.00315542, 0.00458651, 0.00541945,\n",
       "        0.00420866, 0.00408907, 0.00418696, 0.00197263, 0.00410857,\n",
       "        0.00449066, 0.00331821, 0.00261712, 0.0020771 , 0.00367589]),\n",
       " 'std_fit_time': array([0.0025916 , 0.0013245 , 0.0013657 , 0.00151242, 0.00162128,\n",
       "        0.00121626, 0.0014145 , 0.00183021, 0.00216281, 0.00158877,\n",
       "        0.00177168, 0.00086665, 0.00171185, 0.00239794, 0.00016527,\n",
       "        0.00353699, 0.00114463, 0.00182948, 0.00183248, 0.00084218]),\n",
       " 'mean_score_time': array([0.01400313, 0.01782246, 0.01448216, 0.0163475 , 0.01610379,\n",
       "        0.01626787, 0.01537127, 0.01612062, 0.01531267, 0.01875162,\n",
       "        0.02519975, 0.0173418 , 0.01747818, 0.0183094 , 0.0175087 ,\n",
       "        0.01913385, 0.01641326, 0.01848106, 0.02130995, 0.0160872 ]),\n",
       " 'std_score_time': array([0.00459088, 0.00189035, 0.00129575, 0.00056868, 0.00144306,\n",
       "        0.00157083, 0.00149071, 0.00117176, 0.00129239, 0.00474891,\n",
       "        0.00745223, 0.00079924, 0.00085389, 0.00142946, 0.00132531,\n",
       "        0.00268858, 0.00152794, 0.00177371, 0.00391779, 0.00110012]),\n",
       " 'param_n_neighbors': masked_array(data=[1, 4, 7, 10, 13, 16, 19, 22, 25, 28, 31, 34, 37, 40,\n",
       "                    43, 46, 49, 52, 55, 58],\n",
       "              mask=[False, False, False, False, False, False, False, False,\n",
       "                    False, False, False, False, False, False, False, False,\n",
       "                    False, False, False, False],\n",
       "        fill_value='?',\n",
       "             dtype=object),\n",
       " 'params': [{'n_neighbors': 1},\n",
       "  {'n_neighbors': 4},\n",
       "  {'n_neighbors': 7},\n",
       "  {'n_neighbors': 10},\n",
       "  {'n_neighbors': 13},\n",
       "  {'n_neighbors': 16},\n",
       "  {'n_neighbors': 19},\n",
       "  {'n_neighbors': 22},\n",
       "  {'n_neighbors': 25},\n",
       "  {'n_neighbors': 28},\n",
       "  {'n_neighbors': 31},\n",
       "  {'n_neighbors': 34},\n",
       "  {'n_neighbors': 37},\n",
       "  {'n_neighbors': 40},\n",
       "  {'n_neighbors': 43},\n",
       "  {'n_neighbors': 46},\n",
       "  {'n_neighbors': 49},\n",
       "  {'n_neighbors': 52},\n",
       "  {'n_neighbors': 55},\n",
       "  {'n_neighbors': 58}],\n",
       " 'split0_test_recall': array([0.72, 0.6 , 0.72, 0.6 , 0.8 , 0.72, 0.8 , 0.72, 0.76, 0.8 , 0.76,\n",
       "        0.72, 0.72, 0.72, 0.76, 0.76, 0.8 , 0.76, 0.76, 0.76]),\n",
       " 'split1_test_recall': array([0.72, 0.64, 0.72, 0.64, 0.72, 0.68, 0.76, 0.72, 0.72, 0.68, 0.76,\n",
       "        0.72, 0.76, 0.72, 0.76, 0.72, 0.76, 0.72, 0.72, 0.72]),\n",
       " 'split2_test_recall': array([0.76, 0.48, 0.76, 0.64, 0.68, 0.56, 0.64, 0.6 , 0.72, 0.72, 0.76,\n",
       "        0.64, 0.72, 0.68, 0.76, 0.72, 0.72, 0.64, 0.68, 0.72]),\n",
       " 'split3_test_recall': array([0.88, 0.68, 0.84, 0.76, 0.84, 0.84, 0.84, 0.84, 0.84, 0.76, 0.84,\n",
       "        0.8 , 0.88, 0.84, 0.84, 0.84, 0.84, 0.84, 0.88, 0.84]),\n",
       " 'split4_test_recall': array([0.66666667, 0.58333333, 0.58333333, 0.625     , 0.66666667,\n",
       "        0.625     , 0.70833333, 0.70833333, 0.70833333, 0.66666667,\n",
       "        0.70833333, 0.70833333, 0.75      , 0.75      , 0.75      ,\n",
       "        0.66666667, 0.75      , 0.79166667, 0.79166667, 0.75      ]),\n",
       " 'mean_test_recall': array([0.74948605, 0.59641703, 0.72540382, 0.65277533, 0.74155653,\n",
       "        0.68484581, 0.74963289, 0.71720999, 0.74963289, 0.7256975 ,\n",
       "        0.76584435, 0.7173862 , 0.76563877, 0.7414978 , 0.7739207 ,\n",
       "        0.74155653, 0.7739207 , 0.74957416, 0.7656094 , 0.75770925]),\n",
       " 'std_test_recall': array([0.0712814 , 0.06746864, 0.0822801 , 0.05531056, 0.06754578,\n",
       "        0.09423398, 0.07014957, 0.0761005 , 0.04824033, 0.04957026,\n",
       "        0.0418568 , 0.05084476, 0.0590819 , 0.0537694 , 0.0330805 ,\n",
       "        0.0571447 , 0.04174659, 0.06779886, 0.06810783, 0.04394674]),\n",
       " 'rank_test_recall': array([10, 20, 15, 19, 11, 18,  7, 17,  7, 14,  3, 16,  4, 13,  1, 11,  1,\n",
       "         9,  5,  6]),\n",
       " 'split0_train_recall': array([1.        , 0.6969697 , 0.76767677, 0.73737374, 0.7979798 ,\n",
       "        0.74747475, 0.77777778, 0.75757576, 0.76767677, 0.72727273,\n",
       "        0.75757576, 0.75757576, 0.80808081, 0.77777778, 0.82828283,\n",
       "        0.80808081, 0.7979798 , 0.78787879, 0.81818182, 0.76767677]),\n",
       " 'split1_train_recall': array([1.        , 0.70707071, 0.80808081, 0.76767677, 0.83838384,\n",
       "        0.80808081, 0.87878788, 0.83838384, 0.85858586, 0.84848485,\n",
       "        0.86868687, 0.85858586, 0.88888889, 0.86868687, 0.87878788,\n",
       "        0.85858586, 0.87878788, 0.87878788, 0.88888889, 0.8989899 ]),\n",
       " 'split2_train_recall': array([1.        , 0.68686869, 0.77777778, 0.66666667, 0.72727273,\n",
       "        0.66666667, 0.72727273, 0.63636364, 0.74747475, 0.73737374,\n",
       "        0.75757576, 0.75757576, 0.7979798 , 0.76767677, 0.7979798 ,\n",
       "        0.78787879, 0.83838384, 0.7979798 , 0.82828283, 0.82828283]),\n",
       " 'split3_train_recall': array([1.        , 0.70707071, 0.78787879, 0.6969697 , 0.80808081,\n",
       "        0.73737374, 0.77777778, 0.76767677, 0.80808081, 0.75757576,\n",
       "        0.7979798 , 0.77777778, 0.80808081, 0.80808081, 0.85858586,\n",
       "        0.81818182, 0.83838384, 0.84848485, 0.84848485, 0.83838384]),\n",
       " 'split4_train_recall': array([1.  , 0.78, 0.88, 0.78, 0.85, 0.81, 0.85, 0.78, 0.83, 0.8 , 0.84,\n",
       "        0.77, 0.82, 0.77, 0.8 , 0.71, 0.76, 0.69, 0.71, 0.69]),\n",
       " 'mean_train_recall': array([1.        , 0.71559596, 0.80428283, 0.72973737, 0.80434343,\n",
       "        0.75391919, 0.80232323, 0.756     , 0.80236364, 0.77414141,\n",
       "        0.80436364, 0.78430303, 0.82460606, 0.79844444, 0.83272727,\n",
       "        0.79654545, 0.82270707, 0.80062626, 0.81876768, 0.80466667]),\n",
       " 'std_train_recall': array([0.        , 0.03306186, 0.04014755, 0.04260441, 0.04298285,\n",
       "        0.05292792, 0.05469452, 0.06605269, 0.04043108, 0.04476286,\n",
       "        0.04433146, 0.03793096, 0.03288958, 0.0379729 , 0.03190129,\n",
       "        0.04902129, 0.04044798, 0.06450946, 0.05953383, 0.07086345]),\n",
       " 'split0_test_f1': array([0.67924528, 0.63829787, 0.69230769, 0.65217391, 0.75471698,\n",
       "        0.70588235, 0.74074074, 0.72      , 0.71698113, 0.76923077,\n",
       "        0.73076923, 0.69230769, 0.69230769, 0.72      , 0.7037037 ,\n",
       "        0.74509804, 0.75471698, 0.76      , 0.69090909, 0.7037037 ]),\n",
       " 'split1_test_f1': array([0.70588235, 0.69565217, 0.67924528, 0.64      , 0.65454545,\n",
       "        0.64150943, 0.69090909, 0.65454545, 0.65454545, 0.62962963,\n",
       "        0.65517241, 0.62068966, 0.6440678 , 0.6       , 0.61290323,\n",
       "        0.6       , 0.61290323, 0.6       , 0.6       , 0.59016393]),\n",
       " 'split2_test_f1': array([0.69090909, 0.55813953, 0.71698113, 0.65306122, 0.66666667,\n",
       "        0.62222222, 0.66666667, 0.63829787, 0.70588235, 0.70588235,\n",
       "        0.71698113, 0.64      , 0.67924528, 0.65384615, 0.7037037 ,\n",
       "        0.67924528, 0.66666667, 0.61538462, 0.64150943, 0.67924528]),\n",
       " 'split3_test_f1': array([0.78571429, 0.73913043, 0.80769231, 0.73076923, 0.77777778,\n",
       "        0.79245283, 0.79245283, 0.82352941, 0.77777778, 0.73076923,\n",
       "        0.79245283, 0.76923077, 0.8       , 0.77777778, 0.73684211,\n",
       "        0.76363636, 0.76363636, 0.76363636, 0.77192982, 0.76363636]),\n",
       " 'split4_test_f1': array([0.64      , 0.63636364, 0.59574468, 0.6       , 0.61538462,\n",
       "        0.57692308, 0.61818182, 0.62962963, 0.61818182, 0.60377358,\n",
       "        0.62962963, 0.64150943, 0.64285714, 0.69230769, 0.66666667,\n",
       "        0.64      , 0.69230769, 0.73076923, 0.73076923, 0.70588235]),\n",
       " 'mean_test_f1': array([0.70050587, 0.65329071, 0.69881713, 0.65535432, 0.69413948,\n",
       "        0.6680495 , 0.70212747, 0.69318643, 0.69498155, 0.6884089 ,\n",
       "        0.70527986, 0.6725977 , 0.69164877, 0.68836327, 0.68469391,\n",
       "        0.68565387, 0.6978078 , 0.69332676, 0.68626405, 0.68804253]),\n",
       " 'std_test_f1': array([0.04759236, 0.06131981, 0.0675441 , 0.04209836, 0.0616702 ,\n",
       "        0.07440377, 0.05971373, 0.07217812, 0.05436653, 0.06188596,\n",
       "        0.05730552, 0.05365199, 0.05726073, 0.06012011, 0.04234323,\n",
       "        0.06181126, 0.05637843, 0.07175363, 0.06129395, 0.05657965]),\n",
       " 'rank_test_f1': array([ 3, 20,  4, 19,  7, 18,  2,  9,  6, 11,  1, 17, 10, 12, 16, 15,  5,\n",
       "         8, 14, 13]),\n",
       " 'split0_train_f1': array([1.        , 0.78857143, 0.7638191 , 0.74871795, 0.75598086,\n",
       "        0.74371859, 0.73333333, 0.72815534, 0.73076923, 0.70588235,\n",
       "        0.72115385, 0.73170732, 0.73394495, 0.72641509, 0.74545455,\n",
       "        0.74074074, 0.72477064, 0.72222222, 0.72321429, 0.7037037 ]),\n",
       " 'split1_train_f1': array([1.        , 0.77777778, 0.7960199 , 0.76      , 0.78672986,\n",
       "        0.76555024, 0.80555556, 0.78672986, 0.78341014, 0.7706422 ,\n",
       "        0.77828054, 0.77625571, 0.7753304 , 0.77828054, 0.7699115 ,\n",
       "        0.75892857, 0.76651982, 0.76315789, 0.76855895, 0.77056277]),\n",
       " 'split2_train_f1': array([1.        , 0.77714286, 0.77      , 0.72527473, 0.72727273,\n",
       "        0.69473684, 0.70588235, 0.65625   , 0.70813397, 0.70531401,\n",
       "        0.69444444, 0.70093458, 0.71818182, 0.7037037 , 0.70535714,\n",
       "        0.69642857, 0.72173913, 0.70535714, 0.70995671, 0.71304348]),\n",
       " 'split3_train_f1': array([1.        , 0.77777778, 0.76470588, 0.73015873, 0.74766355,\n",
       "        0.71219512, 0.70967742, 0.72727273, 0.73059361, 0.71428571,\n",
       "        0.73148148, 0.71962617, 0.72072072, 0.7239819 , 0.73913043,\n",
       "        0.71365639, 0.71551724, 0.74008811, 0.72413793, 0.72489083]),\n",
       " 'split4_train_f1': array([1.        , 0.81675393, 0.81481481, 0.76470588, 0.76923077,\n",
       "        0.76415094, 0.76233184, 0.74285714, 0.74774775, 0.74766355,\n",
       "        0.76712329, 0.73333333, 0.74545455, 0.74038462, 0.74074074,\n",
       "        0.70646766, 0.73429952, 0.69346734, 0.7029703 , 0.69      ]),\n",
       " 'mean_train_f1': array([1.        , 0.78760475, 0.78187194, 0.74577146, 0.75737555,\n",
       "        0.73607035, 0.7433561 , 0.72825301, 0.74013094, 0.72875757,\n",
       "        0.73849672, 0.73237142, 0.73872649, 0.73455317, 0.74011887,\n",
       "        0.72324439, 0.73256927, 0.72485854, 0.72576764, 0.72044016]),\n",
       " 'std_train_f1': array([0.        , 0.01518683, 0.02023324, 0.01570681, 0.02002333,\n",
       "        0.02826505, 0.03706168, 0.04199578, 0.02503403, 0.02605406,\n",
       "        0.03063601, 0.02481094, 0.02075701, 0.02480225, 0.02061947,\n",
       "        0.02311692, 0.01802507, 0.02478484, 0.02284722, 0.02754454]),\n",
       " 'split0_test_accuracy': array([0.63043478, 0.63043478, 0.65217391, 0.65217391, 0.7173913 ,\n",
       "        0.67391304, 0.69565217, 0.69565217, 0.67391304, 0.73913043,\n",
       "        0.69565217, 0.65217391, 0.65217391, 0.69565217, 0.65217391,\n",
       "        0.7173913 , 0.7173913 , 0.73913043, 0.63043478, 0.65217391]),\n",
       " 'split1_test_accuracy': array([0.67391304, 0.69565217, 0.63043478, 0.60869565, 0.58695652,\n",
       "        0.58695652, 0.63043478, 0.58695652, 0.58695652, 0.56521739,\n",
       "        0.56521739, 0.52173913, 0.54347826, 0.47826087, 0.47826087,\n",
       "        0.47826087, 0.47826087, 0.47826087, 0.47826087, 0.45652174]),\n",
       " 'split2_test_accuracy': array([0.63043478, 0.58695652, 0.67391304, 0.63043478, 0.63043478,\n",
       "        0.63043478, 0.65217391, 0.63043478, 0.67391304, 0.67391304,\n",
       "        0.67391304, 0.60869565, 0.63043478, 0.60869565, 0.65217391,\n",
       "        0.63043478, 0.60869565, 0.56521739, 0.58695652, 0.63043478]),\n",
       " 'split3_test_accuracy': array([0.73333333, 0.73333333, 0.77777778, 0.68888889, 0.73333333,\n",
       "        0.75555556, 0.75555556, 0.8       , 0.73333333, 0.68888889,\n",
       "        0.75555556, 0.73333333, 0.75555556, 0.73333333, 0.66666667,\n",
       "        0.71111111, 0.71111111, 0.71111111, 0.71111111, 0.71111111]),\n",
       " 'split4_test_accuracy': array([0.59090909, 0.63636364, 0.56818182, 0.54545455, 0.54545455,\n",
       "        0.5       , 0.52272727, 0.54545455, 0.52272727, 0.52272727,\n",
       "        0.54545455, 0.56818182, 0.54545455, 0.63636364, 0.59090909,\n",
       "        0.59090909, 0.63636364, 0.68181818, 0.68181818, 0.65909091]),\n",
       " 'mean_test_accuracy': array([0.65198238, 0.65638767, 0.66079295, 0.62555066, 0.64317181,\n",
       "        0.62995595, 0.65198238, 0.65198238, 0.63876652, 0.63876652,\n",
       "        0.64757709, 0.61674009, 0.62555066, 0.62995595, 0.60792952,\n",
       "        0.62555066, 0.62995595, 0.63436123, 0.61674009, 0.62114537]),\n",
       " 'std_test_accuracy': array([0.04817214, 0.05174165, 0.06791273, 0.04737958, 0.07246975,\n",
       "        0.08465862, 0.07645562, 0.08877089, 0.0736708 , 0.08059604,\n",
       "        0.07947491, 0.07244527, 0.07815005, 0.08806706, 0.07029006,\n",
       "        0.08828416, 0.08727816, 0.09866754, 0.0817933 , 0.08710915]),\n",
       " 'rank_test_accuracy': array([ 3,  2,  1, 14,  7, 11,  3,  3,  8,  8,  6, 18, 14, 11, 20, 14, 11,\n",
       "        10, 18, 17]),\n",
       " 'split0_train_accuracy': array([1.        , 0.79558011, 0.74033149, 0.72928177, 0.71823204,\n",
       "        0.71823204, 0.69060773, 0.69060773, 0.69060773, 0.66850829,\n",
       "        0.67955801, 0.6961326 , 0.67955801, 0.67955801, 0.69060773,\n",
       "        0.69060773, 0.66850829, 0.66850829, 0.65745856, 0.64640884]),\n",
       " 'split1_train_accuracy': array([1.        , 0.77900552, 0.77348066, 0.73480663, 0.75138122,\n",
       "        0.72928177, 0.7679558 , 0.75138122, 0.74033149, 0.72375691,\n",
       "        0.72928177, 0.72928177, 0.71823204, 0.72928177, 0.71270718,\n",
       "        0.70165746, 0.70718232, 0.70165746, 0.70718232, 0.70718232]),\n",
       " 'split2_train_accuracy': array([1.        , 0.78453039, 0.74585635, 0.72375691, 0.70165746,\n",
       "        0.67955801, 0.66850829, 0.63535912, 0.66298343, 0.66298343,\n",
       "        0.63535912, 0.64640884, 0.65745856, 0.64640884, 0.63535912,\n",
       "        0.62430939, 0.64640884, 0.63535912, 0.62983425, 0.63535912]),\n",
       " 'split3_train_accuracy': array([1.        , 0.78021978, 0.73626374, 0.71978022, 0.7032967 ,\n",
       "        0.67582418, 0.65384615, 0.68681319, 0.67582418, 0.67032967,\n",
       "        0.68131868, 0.67032967, 0.65934066, 0.66483516, 0.67032967,\n",
       "        0.64285714, 0.63736264, 0.67582418, 0.64835165, 0.65384615]),\n",
       " 'split4_train_accuracy': array([1.        , 0.80874317, 0.78142077, 0.73770492, 0.72131148,\n",
       "        0.72677596, 0.71038251, 0.70491803, 0.69398907, 0.70491803,\n",
       "        0.72131148, 0.69398907, 0.69398907, 0.70491803, 0.69398907,\n",
       "        0.67759563, 0.69945355, 0.66666667, 0.67213115, 0.66120219]),\n",
       " 'mean_train_accuracy': array([1.        , 0.78961579, 0.7554706 , 0.72906609, 0.71917578,\n",
       "        0.70593439, 0.6982601 , 0.69381586, 0.69274718, 0.68609926,\n",
       "        0.68936581, 0.68722839, 0.68171567, 0.68500036, 0.68059855,\n",
       "        0.66740547, 0.67178313, 0.66960314, 0.66299159, 0.66079972]),\n",
       " 'std_train_accuracy': array([0.        , 0.01120851, 0.01837555, 0.006664  , 0.01789792,\n",
       "        0.02337966, 0.03980144, 0.03718481, 0.02623988, 0.0239362 ,\n",
       "        0.03373865, 0.02773186, 0.02270588, 0.02926813, 0.02631543,\n",
       "        0.02924132, 0.02777806, 0.02120686, 0.02600271, 0.0247151 ])}"
      ]
     },
     "execution_count": 22,
     "metadata": {},
     "output_type": "execute_result"
    }
   ],
   "source": [
    "knn_gs.cv_results_"
   ]
  },
  {
   "cell_type": "code",
   "execution_count": 23,
   "metadata": {},
   "outputs": [
    {
     "data": {
      "text/plain": [
       "KNeighborsClassifier(algorithm='auto', leaf_size=30, metric='minkowski',\n",
       "           metric_params=None, n_jobs=None, n_neighbors=31, p=2,\n",
       "           weights='uniform')"
      ]
     },
     "execution_count": 23,
     "metadata": {},
     "output_type": "execute_result"
    }
   ],
   "source": [
    "# лучшая модель\n",
    "best_knn = knn_gs.best_estimator_\n",
    "best_knn"
   ]
  },
  {
   "cell_type": "code",
   "execution_count": 24,
   "metadata": {},
   "outputs": [
    {
     "data": {
      "text/plain": [
       "0.7052798625001468"
      ]
     },
     "execution_count": 24,
     "metadata": {},
     "output_type": "execute_result"
    }
   ],
   "source": [
    "# лучшее значение f1\n",
    "knn_gs.best_score_"
   ]
  },
  {
   "cell_type": "code",
   "execution_count": 25,
   "metadata": {},
   "outputs": [
    {
     "data": {
      "text/plain": [
       "{'n_neighbors': 31}"
      ]
     },
     "execution_count": 25,
     "metadata": {},
     "output_type": "execute_result"
    }
   ],
   "source": [
    "# лучшее значение k\n",
    "knn_gs.best_params_"
   ]
  },
  {
   "cell_type": "code",
   "execution_count": 26,
   "metadata": {},
   "outputs": [
    {
     "data": {
      "text/plain": [
       "array([0, 0, 1, 0, 0, 0, 0, 1, 1, 1, 0, 0, 0, 0, 1, 1, 1, 1, 1, 0, 0, 0,\n",
       "       0, 0, 1, 1, 1, 1, 0, 0, 1, 1, 0, 1, 0, 1, 1, 0, 1, 0, 0, 0, 0, 0,\n",
       "       0, 1, 1, 0, 1, 0, 1, 1, 0, 0, 1, 1, 0, 0, 1, 0, 0, 1, 1, 1, 1, 1,\n",
       "       1, 1, 0, 0, 0, 1, 0, 0, 0, 0], dtype=int64)"
      ]
     },
     "execution_count": 26,
     "metadata": {},
     "output_type": "execute_result"
    }
   ],
   "source": [
    "# на начальном разбиении проверим метрики при новом значении k\n",
    "# 4 ближайших соседа\n",
    "best_knn.fit(X_train, y_train)\n",
    "predicted_best = knn.predict(X_test)\n",
    "predicted_best"
   ]
  },
  {
   "cell_type": "code",
   "execution_count": 27,
   "metadata": {},
   "outputs": [
    {
     "data": {
      "text/plain": [
       "({'precision': 0.5121951219512195,\n",
       "  'recall': 0.6,\n",
       "  'f1-score': 0.5526315789473684,\n",
       "  'support': 35},\n",
       " {'precision': 0.6,\n",
       "  'recall': 0.5121951219512195,\n",
       "  'f1-score': 0.5526315789473684,\n",
       "  'support': 41})"
      ]
     },
     "execution_count": 27,
     "metadata": {},
     "output_type": "execute_result"
    }
   ],
   "source": [
    "classification_report(y_test, predicted_best, output_dict=True)[\"0\"], \\\n",
    "classification_report(y_test, predicted_best, output_dict=True)[\"1\"]"
   ]
  },
  {
   "cell_type": "code",
   "execution_count": 28,
   "metadata": {},
   "outputs": [
    {
     "data": {
      "text/plain": [
       "[<matplotlib.lines.Line2D at 0x18c2c2b6160>]"
      ]
     },
     "execution_count": 28,
     "metadata": {},
     "output_type": "execute_result"
    },
    {
     "data": {
      "image/png": "[encoded data removed]",
      "text/plain": [
       "<Figure size 432x288 with 1 Axes>"
      ]
     },
     "metadata": {
      "needs_background": "light"
     },
     "output_type": "display_data"
    }
   ],
   "source": [
    "# изменение f1 от параметра k\n",
    "plt.plot(n_range, knn_gs.cv_results_['mean_test_f1'])"
   ]
  },
  {
   "cell_type": "code",
   "execution_count": 29,
   "metadata": {},
   "outputs": [
    {
     "data": {
      "text/plain": [
       "[<matplotlib.lines.Line2D at 0x18c2c34b668>]"
      ]
     },
     "execution_count": 29,
     "metadata": {},
     "output_type": "execute_result"
    },
    {
     "data": {
      "image/png": "[encoded data removed]",
      "text/plain": [
       "<Figure size 432x288 with 1 Axes>"
      ]
     },
     "metadata": {
      "needs_background": "light"
     },
     "output_type": "display_data"
    }
   ],
   "source": [
    "# изменение accuracy от параметра k\n",
    "plt.plot(n_range, knn_gs.cv_results_['mean_test_accuracy'])"
   ]
  },
  {
   "cell_type": "code",
   "execution_count": 30,
   "metadata": {},
   "outputs": [
    {
     "data": {
      "text/plain": [
       "[<matplotlib.lines.Line2D at 0x18c2c394e80>]"
      ]
     },
     "execution_count": 30,
     "metadata": {},
     "output_type": "execute_result"
    },
    {
     "data": {
      "image/png": "[encoded data removed]",
      "text/plain": [
       "<Figure size 432x288 with 1 Axes>"
      ]
     },
     "metadata": {
      "needs_background": "light"
     },
     "output_type": "display_data"
    }
   ],
   "source": [
    "# изменение recall от параметра k\n",
    "plt.plot(n_range, knn_gs.cv_results_['mean_test_recall'])"
   ]
  },
  {
   "cell_type": "code",
   "execution_count": 31,
   "metadata": {},
   "outputs": [],
   "source": [
    "def plot_learning_curve(estimator, title, X, y, ylim=None, cv=None,\n",
    "                        n_jobs=None, train_sizes=np.linspace(.1, 1.0, 5)):\n",
    "    plt.figure()\n",
    "    plt.title(title)\n",
    "    if ylim is not None:\n",
    "        plt.ylim(*ylim)\n",
    "    plt.xlabel(\"Training examples\")\n",
    "    plt.ylabel(\"Score\")\n",
    "    train_sizes, train_scores, test_scores = learning_curve(\n",
    "        estimator, X, y, cv=cv, n_jobs=n_jobs, train_sizes=train_sizes)\n",
    "    train_scores_mean = np.mean(train_scores, axis=1)\n",
    "    train_scores_std = np.std(train_scores, axis=1)\n",
    "    test_scores_mean = np.mean(test_scores, axis=1)\n",
    "    test_scores_std = np.std(test_scores, axis=1)\n",
    "    plt.grid()\n",
    "\n",
    "    plt.fill_between(train_sizes, train_scores_mean - train_scores_std,\n",
    "                     train_scores_mean + train_scores_std, alpha=0.1,\n",
    "                     color=\"r\")\n",
    "    plt.fill_between(train_sizes, test_scores_mean - test_scores_std,\n",
    "                     test_scores_mean + test_scores_std, alpha=0.1, color=\"g\")\n",
    "    plt.plot(train_sizes, train_scores_mean, 'o-', color=\"r\",\n",
    "             label=\"Training score\")\n",
    "    plt.plot(train_sizes, test_scores_mean, 'o-', color=\"g\",\n",
    "             label=\"Cross-validation score\")\n",
    "\n",
    "    plt.legend(loc=\"best\")\n",
    "    return plt\n",
    "\n",
    "\n",
    "def plot_validation_curve(estimator, title, X, y, \n",
    "                          param_name, param_range, cv, \n",
    "                          scoring=\"accuracy\"):\n",
    "                                                   \n",
    "    train_scores, test_scores = validation_curve(\n",
    "        estimator, X, y, param_name=param_name, param_range=param_range,\n",
    "        cv=cv, scoring=scoring, n_jobs=1)\n",
    "    train_scores_mean = np.mean(train_scores, axis=1)\n",
    "    train_scores_std = np.std(train_scores, axis=1)\n",
    "    test_scores_mean = np.mean(test_scores, axis=1)\n",
    "    test_scores_std = np.std(test_scores, axis=1)\n",
    "\n",
    "    plt.title(title)\n",
    "    plt.xlabel(param_name)\n",
    "    plt.ylabel(\"Score\")\n",
    "    plt.ylim(0.0, 1.1)\n",
    "    lw = 2\n",
    "    plt.plot(param_range, train_scores_mean, label=\"Training score\",\n",
    "                 color=\"darkorange\", lw=lw)\n",
    "    plt.fill_between(param_range, train_scores_mean - train_scores_std,\n",
    "                     train_scores_mean + train_scores_std, alpha=0.2,\n",
    "                     color=\"darkorange\", lw=lw)\n",
    "    plt.plot(param_range, test_scores_mean, label=\"Cross-validation score\",\n",
    "                 color=\"navy\", lw=lw)\n",
    "    plt.fill_between(param_range, test_scores_mean - test_scores_std,\n",
    "                     test_scores_mean + test_scores_std, alpha=0.2,\n",
    "                     color=\"navy\", lw=lw)\n",
    "    plt.legend(loc=\"best\")\n",
    "    return plt"
   ]
  },
  {
   "cell_type": "code",
   "execution_count": 32,
   "metadata": {},
   "outputs": [],
   "source": [
    "# кривые обучения и валидации"
   ]
  },
  {
   "cell_type": "code",
   "execution_count": 33,
   "metadata": {},
   "outputs": [
    {
     "data": {
      "text/plain": [
       "<module 'matplotlib.pyplot' from 'C:\\\\Users\\\\Karina\\\\Anaconda3\\\\lib\\\\site-packages\\\\matplotlib\\\\pyplot.py'>"
      ]
     },
     "execution_count": 33,
     "metadata": {},
     "output_type": "execute_result"
    },
    {
     "data": {
      "image/png": "[encoded data removed]",
      "text/plain": [
       "<Figure size 432x288 with 1 Axes>"
      ]
     },
     "metadata": {
      "needs_background": "light"
     },
     "output_type": "display_data"
    }
   ],
   "source": [
    "plot_validation_curve(KNeighborsClassifier(), 'knn', \n",
    "                      X_train, y_train, \n",
    "                      param_name='n_neighbors', param_range=n_range, \n",
    "                      cv=20, scoring=\"f1\")"
   ]
  },
  {
   "cell_type": "code",
   "execution_count": 34,
   "metadata": {},
   "outputs": [
    {
     "data": {
      "text/plain": [
       "<module 'matplotlib.pyplot' from 'C:\\\\Users\\\\Karina\\\\Anaconda3\\\\lib\\\\site-packages\\\\matplotlib\\\\pyplot.py'>"
      ]
     },
     "execution_count": 34,
     "metadata": {},
     "output_type": "execute_result"
    },
    {
     "data": {
      "image/png": "[encoded data removed]",
      "text/plain": [
       "<Figure size 432x288 with 1 Axes>"
      ]
     },
     "metadata": {
      "needs_background": "light"
     },
     "output_type": "display_data"
    }
   ],
   "source": [
    "# выборка маловата для k=31\n",
    "plot_learning_curve(KNeighborsClassifier(n_neighbors=10), 'n_neighbors=10', \n",
    "                    X_train, y_train, cv=20)"
   ]
  },
  {
   "cell_type": "code",
   "execution_count": null,
   "metadata": {},
   "outputs": [],
   "source": []
  }
 ],
 "metadata": {
  "kernelspec": {
   "display_name": "Python 3",
   "language": "python",
   "name": "python3"
  },
  "language_info": {
   "codemirror_mode": {
    "name": "ipython",
    "version": 3
   },
   "file_extension": ".py",
   "mimetype": "text/x-python",
   "name": "python",
   "nbconvert_exporter": "python",
   "pygments_lexer": "ipython3",
   "version": "3.7.3"
  }
 },
 "nbformat": 4,
 "nbformat_minor": 2
}
